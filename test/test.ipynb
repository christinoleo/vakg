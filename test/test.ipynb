{
 "cells": [
  {
   "cell_type": "code",
   "execution_count": 2,
   "metadata": {},
   "outputs": [],
   "source": [
    "import os\n",
    "import requests\n",
    "\n",
    "# os.chdir(\"..\")\n",
    "\n",
    "# %%\n",
    "# from app.graph.connector2 import neodb\n",
    "\n",
    "# for a in neodb.query(\"MATCH (c) RETURN c\"):\n",
    "#     for aa in a.values():\n",
    "#         print(aa.labels)\n",
    "\n",
    "# # %%\n",
    "# t = neodb.begin()\n",
    "# print(t.run(\"MATCH (u1)-[r]-(u2) RETURN *\"))\n",
    "# neodb.commit(t)\n"
   ]
  },
  {
   "cell_type": "code",
   "execution_count": 3,
   "metadata": {},
   "outputs": [
    {
     "name": "stdout",
     "output_type": "stream",
     "text": [
      "<Response [500]>\n"
     ]
    }
   ],
   "source": [
    "\n",
    "# %%\n",
    "print(requests.delete(\"http://localhost:8080/knowledge/graph/0/\"))\n"
   ]
  },
  {
   "cell_type": "code",
   "execution_count": null,
   "metadata": {},
   "outputs": [],
   "source": [
    "\n",
    "n = 5\n",
    "print(\n",
    "    requests.post(\n",
    "        \"http://localhost:8080/knowledge/new_state\",\n",
    "        json=dict(\n",
    "            graph=dict(id=0),\n",
    "            m_sequence=dict(\n",
    "                state=dict(label=f\"test{n}\", data=dict(test=1)),\n",
    "                sequence=dict(label=f\"test{n}\", user=1, analysis=1, data=dict(test=n)),\n",
    "            ),\n",
    "            h_sequence=None,\n",
    "        ),\n",
    "    ).json()\n",
    ")"
   ]
  },
  {
   "cell_type": "code",
   "execution_count": null,
   "metadata": {},
   "outputs": [],
   "source": [
    "n = 4\n",
    "print(\n",
    "    requests.post(\n",
    "        \"http://localhost:8080/knowledge/new_state\",\n",
    "        json=dict(\n",
    "            graph=dict(id=0),\n",
    "            h_sequence=dict(\n",
    "                state=dict(label=f\"test{n}\", data=dict(test=1)),\n",
    "                sequence=dict(label=f\"test{n}\", user=1, analysis=1, data=dict(test=n)),\n",
    "            ),\n",
    "            m_sequence=None,\n",
    "        ),\n",
    "    ).json()\n",
    ")"
   ]
  },
  {
   "cell_type": "code",
   "execution_count": 42,
   "metadata": {},
   "outputs": [
    {
     "ename": "ConnectionUnavailable",
     "evalue": "Cannot open connection to ConnectionProfile('bolt://vav.aknakos.com:7474')",
     "output_type": "error",
     "traceback": [
      "\u001b[1;31m---------------------------------------------------------------------------\u001b[0m",
      "\u001b[1;31mIndexError\u001b[0m                                Traceback (most recent call last)",
      "File \u001b[1;32mc:\\Users\\Leona\\miniconda3\\envs\\vakg\\Lib\\site-packages\\py2neo\\client\\__init__.py:806\u001b[0m, in \u001b[0;36mConnectionPool.acquire\u001b[1;34m(self, force_reset, can_overfill)\u001b[0m\n\u001b[0;32m    804\u001b[0m \u001b[39mtry\u001b[39;00m:\n\u001b[0;32m    805\u001b[0m     \u001b[39m# Plan A: select a free connection from the pool\u001b[39;00m\n\u001b[1;32m--> 806\u001b[0m     cx \u001b[39m=\u001b[39m \u001b[39mself\u001b[39m\u001b[39m.\u001b[39m_free_list\u001b[39m.\u001b[39mpopleft()\n\u001b[0;32m    807\u001b[0m \u001b[39mexcept\u001b[39;00m \u001b[39mIndexError\u001b[39;00m:\n",
      "\u001b[1;31mIndexError\u001b[0m: pop from an empty deque",
      "\nDuring handling of the above exception, another exception occurred:\n",
      "\u001b[1;31mTimeoutError\u001b[0m                              Traceback (most recent call last)",
      "File \u001b[1;32mc:\\Users\\Leona\\miniconda3\\envs\\vakg\\Lib\\site-packages\\py2neo\\wiring.py:62\u001b[0m, in \u001b[0;36mWire.open\u001b[1;34m(cls, address, timeout, keep_alive, on_broken)\u001b[0m\n\u001b[0;32m     61\u001b[0m \u001b[39mtry\u001b[39;00m:\n\u001b[1;32m---> 62\u001b[0m     s\u001b[39m.\u001b[39mconnect(address)\n\u001b[0;32m     63\u001b[0m \u001b[39mexcept\u001b[39;00m (\u001b[39mIOError\u001b[39;00m, \u001b[39mOSError\u001b[39;00m) \u001b[39mas\u001b[39;00m error:\n",
      "\u001b[1;31mTimeoutError\u001b[0m: [WinError 10060] A connection attempt failed because the connected party did not properly respond after a period of time, or established connection failed because connected host has failed to respond",
      "\nThe above exception was the direct cause of the following exception:\n",
      "\u001b[1;31mWireError\u001b[0m                                 Traceback (most recent call last)",
      "File \u001b[1;32mc:\\Users\\Leona\\miniconda3\\envs\\vakg\\Lib\\site-packages\\py2neo\\client\\bolt.py:355\u001b[0m, in \u001b[0;36mBolt.open\u001b[1;34m(cls, profile, user_agent, on_release, on_broken)\u001b[0m\n\u001b[0;32m    354\u001b[0m \u001b[39mtry\u001b[39;00m:\n\u001b[1;32m--> 355\u001b[0m     wire \u001b[39m=\u001b[39m \u001b[39mcls\u001b[39;49m\u001b[39m.\u001b[39;49m_connect(profile, on_broken\u001b[39m=\u001b[39;49mon_broken)\n\u001b[0;32m    356\u001b[0m     protocol_version \u001b[39m=\u001b[39m \u001b[39mcls\u001b[39m\u001b[39m.\u001b[39m_handshake(wire)\n",
      "File \u001b[1;32mc:\\Users\\Leona\\miniconda3\\envs\\vakg\\Lib\\site-packages\\py2neo\\client\\bolt.py:369\u001b[0m, in \u001b[0;36mBolt._connect\u001b[1;34m(cls, profile, on_broken)\u001b[0m\n\u001b[0;32m    368\u001b[0m log\u001b[39m.\u001b[39mdebug(\u001b[39m\"\u001b[39m\u001b[39m[#\u001b[39m\u001b[39m%04X\u001b[39;00m\u001b[39m] C: (Dialing <\u001b[39m\u001b[39m%s\u001b[39;00m\u001b[39m>)\u001b[39m\u001b[39m\"\u001b[39m, \u001b[39m0\u001b[39m, profile\u001b[39m.\u001b[39maddress)\n\u001b[1;32m--> 369\u001b[0m wire \u001b[39m=\u001b[39m Wire\u001b[39m.\u001b[39;49mopen(profile\u001b[39m.\u001b[39;49maddress, keep_alive\u001b[39m=\u001b[39;49m\u001b[39mTrue\u001b[39;49;00m, on_broken\u001b[39m=\u001b[39;49mon_broken)\n\u001b[0;32m    370\u001b[0m local_port \u001b[39m=\u001b[39m wire\u001b[39m.\u001b[39mlocal_address\u001b[39m.\u001b[39mport_number\n",
      "File \u001b[1;32mc:\\Users\\Leona\\miniconda3\\envs\\vakg\\Lib\\site-packages\\py2neo\\wiring.py:64\u001b[0m, in \u001b[0;36mWire.open\u001b[1;34m(cls, address, timeout, keep_alive, on_broken)\u001b[0m\n\u001b[0;32m     63\u001b[0m \u001b[39mexcept\u001b[39;00m (\u001b[39mIOError\u001b[39;00m, \u001b[39mOSError\u001b[39;00m) \u001b[39mas\u001b[39;00m error:\n\u001b[1;32m---> 64\u001b[0m     raise_from(WireError(\u001b[39m\"\u001b[39;49m\u001b[39mCannot connect to \u001b[39;49m\u001b[39m%r\u001b[39;49;00m\u001b[39m\"\u001b[39;49m \u001b[39m%\u001b[39;49m (address,)), error)\n\u001b[0;32m     65\u001b[0m \u001b[39mreturn\u001b[39;00m \u001b[39mcls\u001b[39m(s, on_broken\u001b[39m=\u001b[39mon_broken)\n",
      "File \u001b[1;32m<string>:3\u001b[0m, in \u001b[0;36mraise_from\u001b[1;34m(value, from_value)\u001b[0m\n",
      "\u001b[1;31mWireError\u001b[0m: Cannot connect to IPv4Address(('vav.aknakos.com', 7474))",
      "\nThe above exception was the direct cause of the following exception:\n",
      "\u001b[1;31mConnectionUnavailable\u001b[0m                     Traceback (most recent call last)",
      "Cell \u001b[1;32mIn[42], line 3\u001b[0m\n\u001b[0;32m      1\u001b[0m \u001b[39mfrom\u001b[39;00m \u001b[39mneo4j\u001b[39;00m \u001b[39mimport\u001b[39;00m GraphDatabase, RoutingControl\n\u001b[1;32m----> 3\u001b[0m graph \u001b[39m=\u001b[39m Graph(\u001b[39m'\u001b[39;49m\u001b[39mbolt://vav.aknakos.com:7474\u001b[39;49m\u001b[39m'\u001b[39;49m, auth\u001b[39m=\u001b[39;49m(\u001b[39m'\u001b[39;49m\u001b[39mneo4j\u001b[39;49m\u001b[39m'\u001b[39;49m, \u001b[39m'\u001b[39;49m\u001b[39m1234554321\u001b[39;49m\u001b[39m'\u001b[39;49m))\t\n\u001b[0;32m      4\u001b[0m graph\u001b[39m.\u001b[39mrun(\u001b[39m\"\u001b[39m\u001b[39mUNWIND range(1, 3) AS n RETURN n, n * n as n_sq\u001b[39m\u001b[39m\"\u001b[39m)\u001b[39m.\u001b[39mto_table()\n",
      "File \u001b[1;32mc:\\Users\\Leona\\miniconda3\\envs\\vakg\\Lib\\site-packages\\py2neo\\database.py:288\u001b[0m, in \u001b[0;36mGraph.__init__\u001b[1;34m(self, profile, name, **settings)\u001b[0m\n\u001b[0;32m    287\u001b[0m \u001b[39mdef\u001b[39;00m \u001b[39m__init__\u001b[39m(\u001b[39mself\u001b[39m, profile\u001b[39m=\u001b[39m\u001b[39mNone\u001b[39;00m, name\u001b[39m=\u001b[39m\u001b[39mNone\u001b[39;00m, \u001b[39m*\u001b[39m\u001b[39m*\u001b[39msettings):\n\u001b[1;32m--> 288\u001b[0m     \u001b[39mself\u001b[39m\u001b[39m.\u001b[39mservice \u001b[39m=\u001b[39m GraphService(profile, \u001b[39m*\u001b[39;49m\u001b[39m*\u001b[39;49msettings)\n\u001b[0;32m    289\u001b[0m     \u001b[39mself\u001b[39m\u001b[39m.\u001b[39m\u001b[39m__name__\u001b[39m \u001b[39m=\u001b[39m name\n\u001b[0;32m    290\u001b[0m     \u001b[39mself\u001b[39m\u001b[39m.\u001b[39mschema \u001b[39m=\u001b[39m Schema(\u001b[39mself\u001b[39m)\n",
      "File \u001b[1;32mc:\\Users\\Leona\\miniconda3\\envs\\vakg\\Lib\\site-packages\\py2neo\\database.py:119\u001b[0m, in \u001b[0;36mGraphService.__init__\u001b[1;34m(self, profile, **settings)\u001b[0m\n\u001b[0;32m    116\u001b[0m \u001b[39mif\u001b[39;00m connector_settings[\u001b[39m\"\u001b[39m\u001b[39minit_size\u001b[39m\u001b[39m\"\u001b[39m] \u001b[39mis\u001b[39;00m \u001b[39mNone\u001b[39;00m \u001b[39mand\u001b[39;00m \u001b[39mnot\u001b[39;00m profile\u001b[39m.\u001b[39mrouting:\n\u001b[0;32m    117\u001b[0m     \u001b[39m# Ensures credentials are checked on construction\u001b[39;00m\n\u001b[0;32m    118\u001b[0m     connector_settings[\u001b[39m\"\u001b[39m\u001b[39minit_size\u001b[39m\u001b[39m\"\u001b[39m] \u001b[39m=\u001b[39m \u001b[39m1\u001b[39m\n\u001b[1;32m--> 119\u001b[0m \u001b[39mself\u001b[39m\u001b[39m.\u001b[39m_connector \u001b[39m=\u001b[39m Connector(profile, \u001b[39m*\u001b[39;49m\u001b[39m*\u001b[39;49mconnector_settings)\n\u001b[0;32m    120\u001b[0m \u001b[39mself\u001b[39m\u001b[39m.\u001b[39m_graphs \u001b[39m=\u001b[39m {}\n",
      "File \u001b[1;32mc:\\Users\\Leona\\miniconda3\\envs\\vakg\\Lib\\site-packages\\py2neo\\client\\__init__.py:960\u001b[0m, in \u001b[0;36mConnector.__init__\u001b[1;34m(self, profile, user_agent, init_size, max_size, max_age, routing_refresh_ttl)\u001b[0m\n\u001b[0;32m    958\u001b[0m \u001b[39melse\u001b[39;00m:\n\u001b[0;32m    959\u001b[0m     \u001b[39mself\u001b[39m\u001b[39m.\u001b[39m_router \u001b[39m=\u001b[39m \u001b[39mNone\u001b[39;00m\n\u001b[1;32m--> 960\u001b[0m \u001b[39mself\u001b[39;49m\u001b[39m.\u001b[39;49m_add_pools(\u001b[39m*\u001b[39;49m\u001b[39mself\u001b[39;49m\u001b[39m.\u001b[39;49m_initial_routers)\n",
      "File \u001b[1;32mc:\\Users\\Leona\\miniconda3\\envs\\vakg\\Lib\\site-packages\\py2neo\\client\\__init__.py:982\u001b[0m, in \u001b[0;36mConnector._add_pools\u001b[1;34m(self, *profiles)\u001b[0m\n\u001b[0;32m    980\u001b[0m     \u001b[39mcontinue\u001b[39;00m\n\u001b[0;32m    981\u001b[0m log\u001b[39m.\u001b[39mdebug(\u001b[39m\"\u001b[39m\u001b[39mAdding connection pool for profile \u001b[39m\u001b[39m%r\u001b[39;00m\u001b[39m\"\u001b[39m, profile)\n\u001b[1;32m--> 982\u001b[0m pool \u001b[39m=\u001b[39m ConnectionPool\u001b[39m.\u001b[39;49mopen(\n\u001b[0;32m    983\u001b[0m     profile,\n\u001b[0;32m    984\u001b[0m     user_agent\u001b[39m=\u001b[39;49m\u001b[39mself\u001b[39;49m\u001b[39m.\u001b[39;49m_user_agent,\n\u001b[0;32m    985\u001b[0m     init_size\u001b[39m=\u001b[39;49m\u001b[39mself\u001b[39;49m\u001b[39m.\u001b[39;49m_init_size,\n\u001b[0;32m    986\u001b[0m     max_size\u001b[39m=\u001b[39;49m\u001b[39mself\u001b[39;49m\u001b[39m.\u001b[39;49m_max_size,\n\u001b[0;32m    987\u001b[0m     max_age\u001b[39m=\u001b[39;49m\u001b[39mself\u001b[39;49m\u001b[39m.\u001b[39;49m_max_age,\n\u001b[0;32m    988\u001b[0m     on_broken\u001b[39m=\u001b[39;49m\u001b[39mself\u001b[39;49m\u001b[39m.\u001b[39;49m_on_broken)\n\u001b[0;32m    989\u001b[0m \u001b[39mself\u001b[39m\u001b[39m.\u001b[39m_pools[profile] \u001b[39m=\u001b[39m pool\n",
      "File \u001b[1;32mc:\\Users\\Leona\\miniconda3\\envs\\vakg\\Lib\\site-packages\\py2neo\\client\\__init__.py:649\u001b[0m, in \u001b[0;36mConnectionPool.open\u001b[1;34m(cls, profile, user_agent, init_size, max_size, max_age, on_broken)\u001b[0m\n\u001b[0;32m    627\u001b[0m \u001b[39m\u001b[39m\u001b[39m\"\"\" Create a new connection pool, with an option to seed one\u001b[39;00m\n\u001b[0;32m    628\u001b[0m \u001b[39mor more initial connections.\u001b[39;00m\n\u001b[0;32m    629\u001b[0m \n\u001b[1;32m   (...)\u001b[0m\n\u001b[0;32m    646\u001b[0m \u001b[39m    scheme\u001b[39;00m\n\u001b[0;32m    647\u001b[0m \u001b[39m\"\"\"\u001b[39;00m\n\u001b[0;32m    648\u001b[0m pool \u001b[39m=\u001b[39m \u001b[39mcls\u001b[39m(profile, user_agent, max_size, max_age, on_broken)\n\u001b[1;32m--> 649\u001b[0m seeds \u001b[39m=\u001b[39m [pool\u001b[39m.\u001b[39;49macquire() \u001b[39mfor\u001b[39;49;00m _ \u001b[39min\u001b[39;49;00m \u001b[39mrange\u001b[39;49m(init_size \u001b[39mor\u001b[39;49;00m \u001b[39mcls\u001b[39;49m\u001b[39m.\u001b[39;49mdefault_init_size)]\n\u001b[0;32m    650\u001b[0m \u001b[39mfor\u001b[39;00m seed \u001b[39min\u001b[39;00m seeds:\n\u001b[0;32m    651\u001b[0m     seed\u001b[39m.\u001b[39mrelease()\n",
      "File \u001b[1;32mc:\\Users\\Leona\\miniconda3\\envs\\vakg\\Lib\\site-packages\\py2neo\\client\\__init__.py:649\u001b[0m, in \u001b[0;36m<listcomp>\u001b[1;34m(.0)\u001b[0m\n\u001b[0;32m    627\u001b[0m \u001b[39m\u001b[39m\u001b[39m\"\"\" Create a new connection pool, with an option to seed one\u001b[39;00m\n\u001b[0;32m    628\u001b[0m \u001b[39mor more initial connections.\u001b[39;00m\n\u001b[0;32m    629\u001b[0m \n\u001b[1;32m   (...)\u001b[0m\n\u001b[0;32m    646\u001b[0m \u001b[39m    scheme\u001b[39;00m\n\u001b[0;32m    647\u001b[0m \u001b[39m\"\"\"\u001b[39;00m\n\u001b[0;32m    648\u001b[0m pool \u001b[39m=\u001b[39m \u001b[39mcls\u001b[39m(profile, user_agent, max_size, max_age, on_broken)\n\u001b[1;32m--> 649\u001b[0m seeds \u001b[39m=\u001b[39m [pool\u001b[39m.\u001b[39;49macquire() \u001b[39mfor\u001b[39;00m _ \u001b[39min\u001b[39;00m \u001b[39mrange\u001b[39m(init_size \u001b[39mor\u001b[39;00m \u001b[39mcls\u001b[39m\u001b[39m.\u001b[39mdefault_init_size)]\n\u001b[0;32m    650\u001b[0m \u001b[39mfor\u001b[39;00m seed \u001b[39min\u001b[39;00m seeds:\n\u001b[0;32m    651\u001b[0m     seed\u001b[39m.\u001b[39mrelease()\n",
      "File \u001b[1;32mc:\\Users\\Leona\\miniconda3\\envs\\vakg\\Lib\\site-packages\\py2neo\\client\\__init__.py:813\u001b[0m, in \u001b[0;36mConnectionPool.acquire\u001b[1;34m(self, force_reset, can_overfill)\u001b[0m\n\u001b[0;32m    807\u001b[0m \u001b[39mexcept\u001b[39;00m \u001b[39mIndexError\u001b[39;00m:\n\u001b[0;32m    808\u001b[0m     \u001b[39mif\u001b[39;00m \u001b[39mself\u001b[39m\u001b[39m.\u001b[39m_has_capacity() \u001b[39mor\u001b[39;00m can_overfill:\n\u001b[0;32m    809\u001b[0m         \u001b[39m# Plan B: if the pool isn't full, open\u001b[39;00m\n\u001b[0;32m    810\u001b[0m         \u001b[39m# a new connection. This may raise a\u001b[39;00m\n\u001b[0;32m    811\u001b[0m         \u001b[39m# ConnectionUnavailable exception, which\u001b[39;00m\n\u001b[0;32m    812\u001b[0m         \u001b[39m# should bubble up to the caller.\u001b[39;00m\n\u001b[1;32m--> 813\u001b[0m         cx \u001b[39m=\u001b[39m \u001b[39mself\u001b[39;49m\u001b[39m.\u001b[39;49m_connect()\n\u001b[0;32m    814\u001b[0m         \u001b[39mif\u001b[39;00m cx\u001b[39m.\u001b[39msupports_multi():\n\u001b[0;32m    815\u001b[0m             \u001b[39mself\u001b[39m\u001b[39m.\u001b[39m_supports_multi \u001b[39m=\u001b[39m \u001b[39mTrue\u001b[39;00m\n",
      "File \u001b[1;32mc:\\Users\\Leona\\miniconda3\\envs\\vakg\\Lib\\site-packages\\py2neo\\client\\__init__.py:764\u001b[0m, in \u001b[0;36mConnectionPool._connect\u001b[1;34m(self)\u001b[0m\n\u001b[0;32m    761\u001b[0m \u001b[39mdef\u001b[39;00m \u001b[39m_connect\u001b[39m(\u001b[39mself\u001b[39m):\n\u001b[0;32m    762\u001b[0m \u001b[39m    \u001b[39m\u001b[39m\"\"\" Open and return a new connection.\u001b[39;00m\n\u001b[0;32m    763\u001b[0m \u001b[39m    \"\"\"\u001b[39;00m\n\u001b[1;32m--> 764\u001b[0m     cx \u001b[39m=\u001b[39m Connection\u001b[39m.\u001b[39;49mopen(\u001b[39mself\u001b[39;49m\u001b[39m.\u001b[39;49mprofile, user_agent\u001b[39m=\u001b[39;49m\u001b[39mself\u001b[39;49m\u001b[39m.\u001b[39;49muser_agent,\n\u001b[0;32m    765\u001b[0m                          on_release\u001b[39m=\u001b[39;49m\u001b[39mlambda\u001b[39;49;00m c: \u001b[39mself\u001b[39;49m\u001b[39m.\u001b[39;49mrelease(c),\n\u001b[0;32m    766\u001b[0m                          on_broken\u001b[39m=\u001b[39;49m\u001b[39mlambda\u001b[39;49;00m msg: \u001b[39mself\u001b[39;49m\u001b[39m.\u001b[39;49m__on_broken(msg))\n\u001b[0;32m    767\u001b[0m     \u001b[39mself\u001b[39m\u001b[39m.\u001b[39m_server_agent \u001b[39m=\u001b[39m cx\u001b[39m.\u001b[39mserver_agent\n\u001b[0;32m    768\u001b[0m     \u001b[39mreturn\u001b[39;00m cx\n",
      "File \u001b[1;32mc:\\Users\\Leona\\miniconda3\\envs\\vakg\\Lib\\site-packages\\py2neo\\client\\__init__.py:174\u001b[0m, in \u001b[0;36mConnection.open\u001b[1;34m(cls, profile, user_agent, on_release, on_broken)\u001b[0m\n\u001b[0;32m    172\u001b[0m \u001b[39mif\u001b[39;00m profile\u001b[39m.\u001b[39mprotocol \u001b[39m==\u001b[39m \u001b[39m\"\u001b[39m\u001b[39mbolt\u001b[39m\u001b[39m\"\u001b[39m:\n\u001b[0;32m    173\u001b[0m     \u001b[39mfrom\u001b[39;00m \u001b[39mpy2neo\u001b[39;00m\u001b[39m.\u001b[39;00m\u001b[39mclient\u001b[39;00m\u001b[39m.\u001b[39;00m\u001b[39mbolt\u001b[39;00m \u001b[39mimport\u001b[39;00m Bolt\n\u001b[1;32m--> 174\u001b[0m     \u001b[39mreturn\u001b[39;00m Bolt\u001b[39m.\u001b[39;49mopen(profile, user_agent\u001b[39m=\u001b[39;49muser_agent,\n\u001b[0;32m    175\u001b[0m                      on_release\u001b[39m=\u001b[39;49mon_release, on_broken\u001b[39m=\u001b[39;49mon_broken)\n\u001b[0;32m    176\u001b[0m \u001b[39melif\u001b[39;00m profile\u001b[39m.\u001b[39mprotocol \u001b[39m==\u001b[39m \u001b[39m\"\u001b[39m\u001b[39mhttp\u001b[39m\u001b[39m\"\u001b[39m:\n\u001b[0;32m    177\u001b[0m     \u001b[39mfrom\u001b[39;00m \u001b[39mpy2neo\u001b[39;00m\u001b[39m.\u001b[39;00m\u001b[39mclient\u001b[39;00m\u001b[39m.\u001b[39;00m\u001b[39mhttp\u001b[39;00m \u001b[39mimport\u001b[39;00m HTTP\n",
      "File \u001b[1;32mc:\\Users\\Leona\\miniconda3\\envs\\vakg\\Lib\\site-packages\\py2neo\\client\\bolt.py:364\u001b[0m, in \u001b[0;36mBolt.open\u001b[1;34m(cls, profile, user_agent, on_release, on_broken)\u001b[0m\n\u001b[0;32m    362\u001b[0m     \u001b[39mreturn\u001b[39;00m bolt\n\u001b[0;32m    363\u001b[0m \u001b[39mexcept\u001b[39;00m (\u001b[39mTypeError\u001b[39;00m, WireError) \u001b[39mas\u001b[39;00m error:\n\u001b[1;32m--> 364\u001b[0m     raise_from(ConnectionUnavailable(\u001b[39m\"\u001b[39;49m\u001b[39mCannot open connection to \u001b[39;49m\u001b[39m%r\u001b[39;49;00m\u001b[39m\"\u001b[39;49m \u001b[39m%\u001b[39;49m profile), error)\n",
      "File \u001b[1;32m<string>:3\u001b[0m, in \u001b[0;36mraise_from\u001b[1;34m(value, from_value)\u001b[0m\n",
      "\u001b[1;31mConnectionUnavailable\u001b[0m: Cannot open connection to ConnectionProfile('bolt://vav.aknakos.com:7474')"
     ]
    },
    {
     "ename": "",
     "evalue": "",
     "output_type": "error",
     "traceback": [
      "\u001b[1;31mThe Kernel crashed while executing code in the the current cell or a previous cell. Please review the code in the cell(s) to identify a possible cause of the failure. Click <a href='https://aka.ms/vscodeJupyterKernelCrash'>here</a> for more info. View Jupyter <a href='command:jupyter.viewOutput'>log</a> for further details."
     ]
    }
   ],
   "source": [
    "from neo4j import GraphDatabase, RoutingControl\n",
    "\n",
    "graph = Graph('bolt://vav.aknakos.com:7474', auth=('neo4j', '1234554321'))\t\n",
    "graph.run(\"UNWIND range(1, 3) AS n RETURN n, n * n as n_sq\").to_table()\n"
   ]
  },
  {
   "cell_type": "code",
   "execution_count": null,
   "metadata": {},
   "outputs": [],
   "source": []
  }
 ],
 "metadata": {
  "kernelspec": {
   "display_name": "vakg",
   "language": "python",
   "name": "python3"
  },
  "language_info": {
   "codemirror_mode": {
    "name": "ipython",
    "version": 3
   },
   "file_extension": ".py",
   "mimetype": "text/x-python",
   "name": "python",
   "nbconvert_exporter": "python",
   "pygments_lexer": "ipython3",
   "version": "3.11.3"
  },
  "orig_nbformat": 4
 },
 "nbformat": 4,
 "nbformat_minor": 2
}
